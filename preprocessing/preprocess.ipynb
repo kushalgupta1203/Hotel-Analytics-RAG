{
 "cells": [
  {
   "cell_type": "code",
   "execution_count": 47,
   "id": "8fb1a8c6",
   "metadata": {},
   "outputs": [],
   "source": [
    "import pandas as pd\n",
    "import numpy as np"
   ]
  },
  {
   "cell_type": "code",
   "execution_count": 48,
   "id": "59f19b37",
   "metadata": {},
   "outputs": [],
   "source": [
    "# File paths\n",
    "file1 = r\"D:\\Projects\\Hotel-Analytics-RAG\\dataset\\hotel_bookings_1.csv\"\n",
    "file2 = r\"D:\\Projects\\Hotel-Analytics-RAG\\dataset\\hotel_bookings_2.csv\""
   ]
  },
  {
   "cell_type": "code",
   "execution_count": 49,
   "id": "c18719c5",
   "metadata": {},
   "outputs": [],
   "source": [
    "# Load the datasets\n",
    "df1 = pd.read_csv(file1)\n",
    "df2 = pd.read_csv(file2)"
   ]
  },
  {
   "cell_type": "code",
   "execution_count": 50,
   "id": "ffc1cea5",
   "metadata": {},
   "outputs": [
    {
     "name": "stdout",
     "output_type": "stream",
     "text": [
      "File 1 shape: (119390, 32)\n",
      "File 2 shape: (119390, 32)\n"
     ]
    }
   ],
   "source": [
    "print(f\"File 1 shape: {df1.shape}\")\n",
    "print(f\"File 2 shape: {df2.shape}\")"
   ]
  },
  {
   "cell_type": "code",
   "execution_count": 51,
   "id": "8f763d04",
   "metadata": {},
   "outputs": [],
   "source": [
    "def clean_dataset(df, name=\"\"):\n",
    "    original_shape = df.shape\n",
    "    \n",
    "    # Strip whitespace from column names\n",
    "    df.columns = df.columns.str.strip()\n",
    "    \n",
    "    # Strip strings and standardize text columns\n",
    "    for col in df.select_dtypes(include='object'):\n",
    "        df[col] = df[col].str.strip()\n",
    "    \n",
    "    # Fill commonly missing fields\n",
    "    fill_values = {\n",
    "        'children': 0,\n",
    "        'country': 'unknown',\n",
    "        'agent': 'unknown',\n",
    "        'company': 'unknown'\n",
    "    }\n",
    "    df.fillna(value=fill_values, inplace=True)\n",
    "\n",
    "    # Fill remaining numeric nulls with median\n",
    "    for col in df.select_dtypes(include=[np.number]):\n",
    "        if df[col].isnull().sum() > 0:\n",
    "            df[col].fillna(df[col].median(), inplace=True)\n",
    "    \n",
    "    # Drop rows with all values missing (if any)\n",
    "    df.dropna(how='all', inplace=True)\n",
    "    \n",
    "    missing_after = df.isnull().sum().sum()\n",
    "\n",
    "    print(f\"\\n{name} - Cleaning Summary:\")\n",
    "    print(f\"Original shape: {original_shape}\")\n",
    "    print(f\"Remaining missing values: {missing_after}\")\n",
    "    \n",
    "    return df"
   ]
  },
  {
   "cell_type": "code",
   "execution_count": 52,
   "id": "6c3981c8",
   "metadata": {},
   "outputs": [
    {
     "name": "stdout",
     "output_type": "stream",
     "text": [
      "\n",
      "File 1 - Cleaning Summary:\n",
      "Original shape: (119390, 32)\n",
      "Remaining missing values: 0\n",
      "\n",
      "File 2 - Cleaning Summary:\n",
      "Original shape: (119390, 32)\n",
      "Remaining missing values: 0\n"
     ]
    }
   ],
   "source": [
    "df1_clean = clean_dataset(df1, name=\"File 1\")\n",
    "df2_clean = clean_dataset(df2, name=\"File 2\")"
   ]
  },
  {
   "cell_type": "code",
   "execution_count": 53,
   "id": "c6e4fb9d",
   "metadata": {},
   "outputs": [
    {
     "name": "stdout",
     "output_type": "stream",
     "text": [
      "\n",
      "Combined shape before dropping duplicates: (238780, 32)\n"
     ]
    }
   ],
   "source": [
    "combined_df = pd.concat([df1_clean, df2_clean], ignore_index=True)\n",
    "print(f\"\\nCombined shape before dropping duplicates: {combined_df.shape}\")"
   ]
  },
  {
   "cell_type": "code",
   "execution_count": 54,
   "id": "ef6d86c7",
   "metadata": {},
   "outputs": [
    {
     "name": "stdout",
     "output_type": "stream",
     "text": [
      "Shape after dropping duplicates: (174792, 32)\n"
     ]
    }
   ],
   "source": [
    "combined_df.drop_duplicates(inplace=True)\n",
    "print(f\"Shape after dropping duplicates: {combined_df.shape}\")"
   ]
  },
  {
   "cell_type": "code",
   "execution_count": 55,
   "id": "b248a19c",
   "metadata": {},
   "outputs": [],
   "source": [
    "int_cols = ['adults', 'children', 'babies']\n",
    "for col in int_cols:\n",
    "    if col in combined_df.columns:\n",
    "        combined_df[col] = combined_df[col].astype(int)"
   ]
  },
  {
   "cell_type": "code",
   "execution_count": 56,
   "id": "6199ecf8",
   "metadata": {},
   "outputs": [],
   "source": [
    "combined_df['reservation_status_date'] = pd.to_datetime(\n",
    "    combined_df['reservation_status_date'], errors='coerce'\n",
    ")"
   ]
  },
  {
   "cell_type": "code",
   "execution_count": 57,
   "id": "814eab94",
   "metadata": {},
   "outputs": [
    {
     "name": "stdout",
     "output_type": "stream",
     "text": [
      "Shape after removing 0-night stays: (173490, 33)\n"
     ]
    }
   ],
   "source": [
    "combined_df['total_nights'] = (\n",
    "    combined_df['stays_in_weekend_nights'] + combined_df['stays_in_week_nights']\n",
    ")\n",
    "combined_df = combined_df[combined_df['total_nights'] > 0]\n",
    "print(f\"Shape after removing 0-night stays: {combined_df.shape}\")"
   ]
  },
  {
   "cell_type": "code",
   "execution_count": 58,
   "id": "2fce207b",
   "metadata": {},
   "outputs": [
    {
     "name": "stdout",
     "output_type": "stream",
     "text": [
      "Shape after removing outlier ADR values: (173484, 33)\n"
     ]
    }
   ],
   "source": [
    "combined_df = combined_df[combined_df['adr'] < 500]\n",
    "print(f\"Shape after removing outlier ADR values: {combined_df.shape}\")"
   ]
  },
  {
   "cell_type": "code",
   "execution_count": 59,
   "id": "5c194c86",
   "metadata": {},
   "outputs": [
    {
     "name": "stdout",
     "output_type": "stream",
     "text": [
      "\n",
      "Remaining nulls per column (if any):\n",
      "reservation_status_date    86742\n",
      "dtype: int64\n"
     ]
    }
   ],
   "source": [
    "null_summary = combined_df.isnull().sum()\n",
    "null_columns = null_summary[null_summary > 0]\n",
    "print(\"\\nRemaining nulls per column (if any):\")\n",
    "print(null_columns)"
   ]
  },
  {
   "cell_type": "code",
   "execution_count": 60,
   "id": "c6eedce8",
   "metadata": {},
   "outputs": [],
   "source": [
    "month_map = {\n",
    "    'January': 1, 'February': 2, 'March': 3, 'April': 4,\n",
    "    'May': 5, 'June': 6, 'July': 7, 'August': 8,\n",
    "    'September': 9, 'October': 10, 'November': 11, 'December': 12\n",
    "}\n",
    "combined_df['arrival_month_num'] = combined_df['arrival_date_month'].map(month_map)"
   ]
  },
  {
   "cell_type": "code",
   "execution_count": 61,
   "id": "dd284749",
   "metadata": {},
   "outputs": [],
   "source": [
    "combined_df['arrival_date'] = pd.to_datetime(\n",
    "    dict(\n",
    "        year=combined_df['arrival_date_year'],\n",
    "        month=combined_df['arrival_month_num'],\n",
    "        day=combined_df['arrival_date_day_of_month']\n",
    "    ),\n",
    "    errors='coerce'\n",
    ")\n"
   ]
  },
  {
   "cell_type": "code",
   "execution_count": 62,
   "id": "64289d00",
   "metadata": {},
   "outputs": [],
   "source": [
    "combined_df['revenue'] = combined_df['adr'] * combined_df['total_nights']"
   ]
  },
  {
   "cell_type": "code",
   "execution_count": 63,
   "id": "1981aa05",
   "metadata": {},
   "outputs": [
    {
     "name": "stdout",
     "output_type": "stream",
     "text": [
      "\n",
      "Final Columns Overview:\n",
      "['hotel', 'is_canceled', 'lead_time', 'arrival_date_year', 'arrival_date_month', 'arrival_date_week_number', 'arrival_date_day_of_month', 'stays_in_weekend_nights', 'stays_in_week_nights', 'adults', 'children', 'babies', 'meal', 'country', 'market_segment', 'distribution_channel', 'is_repeated_guest', 'previous_cancellations', 'previous_bookings_not_canceled', 'reserved_room_type', 'assigned_room_type', 'booking_changes', 'deposit_type', 'agent', 'company', 'days_in_waiting_list', 'customer_type', 'adr', 'required_car_parking_spaces', 'total_of_special_requests', 'reservation_status', 'reservation_status_date', 'total_nights', 'arrival_month_num', 'arrival_date', 'revenue']\n",
      "\n",
      "Nulls remaining (if any):\n",
      "reservation_status_date      86742\n",
      "hotel                            0\n",
      "lead_time                        0\n",
      "is_canceled                      0\n",
      "arrival_date_year                0\n",
      "arrival_date_month               0\n",
      "arrival_date_day_of_month        0\n",
      "arrival_date_week_number         0\n",
      "stays_in_week_nights             0\n",
      "adults                           0\n",
      "dtype: int64\n"
     ]
    }
   ],
   "source": [
    "print(\"\\nFinal Columns Overview:\")\n",
    "print(combined_df.columns.tolist())\n",
    "\n",
    "print(\"\\nNulls remaining (if any):\")\n",
    "print(combined_df.isnull().sum().sort_values(ascending=False).head(10))"
   ]
  },
  {
   "cell_type": "code",
   "execution_count": 64,
   "id": "df0df005",
   "metadata": {},
   "outputs": [
    {
     "name": "stdout",
     "output_type": "stream",
     "text": [
      "\n",
      " Preprocessed dataset ready for analytics saved to: hotel_bookings_dataset.csv\n",
      "Final dataset shape: (173484, 36)\n"
     ]
    }
   ],
   "source": [
    "output_path = \"hotel_bookings_dataset.csv\"\n",
    "combined_df.to_csv(output_path, index=False)\n",
    "print(f\"\\n Preprocessed dataset ready for analytics saved to: {output_path}\")\n",
    "print(f\"Final dataset shape: {combined_df.shape}\")\n"
   ]
  },
  {
   "cell_type": "code",
   "execution_count": 65,
   "id": "ea9c0885",
   "metadata": {},
   "outputs": [
    {
     "name": "stdout",
     "output_type": "stream",
     "text": [
      "\n",
      "--- Sample of Cleaned Dataset ---\n"
     ]
    },
    {
     "data": {
      "text/html": [
       "<div>\n",
       "<style scoped>\n",
       "    .dataframe tbody tr th:only-of-type {\n",
       "        vertical-align: middle;\n",
       "    }\n",
       "\n",
       "    .dataframe tbody tr th {\n",
       "        vertical-align: top;\n",
       "    }\n",
       "\n",
       "    .dataframe thead th {\n",
       "        text-align: right;\n",
       "    }\n",
       "</style>\n",
       "<table border=\"1\" class=\"dataframe\">\n",
       "  <thead>\n",
       "    <tr style=\"text-align: right;\">\n",
       "      <th></th>\n",
       "      <th>hotel</th>\n",
       "      <th>is_canceled</th>\n",
       "      <th>lead_time</th>\n",
       "      <th>arrival_date_year</th>\n",
       "      <th>arrival_date_month</th>\n",
       "      <th>arrival_date_week_number</th>\n",
       "      <th>arrival_date_day_of_month</th>\n",
       "      <th>stays_in_weekend_nights</th>\n",
       "      <th>stays_in_week_nights</th>\n",
       "      <th>adults</th>\n",
       "      <th>...</th>\n",
       "      <th>customer_type</th>\n",
       "      <th>adr</th>\n",
       "      <th>required_car_parking_spaces</th>\n",
       "      <th>total_of_special_requests</th>\n",
       "      <th>reservation_status</th>\n",
       "      <th>reservation_status_date</th>\n",
       "      <th>total_nights</th>\n",
       "      <th>arrival_month_num</th>\n",
       "      <th>arrival_date</th>\n",
       "      <th>revenue</th>\n",
       "    </tr>\n",
       "  </thead>\n",
       "  <tbody>\n",
       "    <tr>\n",
       "      <th>2</th>\n",
       "      <td>Resort Hotel</td>\n",
       "      <td>0</td>\n",
       "      <td>7</td>\n",
       "      <td>2015</td>\n",
       "      <td>July</td>\n",
       "      <td>27</td>\n",
       "      <td>1</td>\n",
       "      <td>0</td>\n",
       "      <td>1</td>\n",
       "      <td>1</td>\n",
       "      <td>...</td>\n",
       "      <td>Transient</td>\n",
       "      <td>75.0</td>\n",
       "      <td>0</td>\n",
       "      <td>0</td>\n",
       "      <td>Check-Out</td>\n",
       "      <td>2015-07-02</td>\n",
       "      <td>1</td>\n",
       "      <td>7</td>\n",
       "      <td>2015-07-01</td>\n",
       "      <td>75.0</td>\n",
       "    </tr>\n",
       "    <tr>\n",
       "      <th>3</th>\n",
       "      <td>Resort Hotel</td>\n",
       "      <td>0</td>\n",
       "      <td>13</td>\n",
       "      <td>2015</td>\n",
       "      <td>July</td>\n",
       "      <td>27</td>\n",
       "      <td>1</td>\n",
       "      <td>0</td>\n",
       "      <td>1</td>\n",
       "      <td>1</td>\n",
       "      <td>...</td>\n",
       "      <td>Transient</td>\n",
       "      <td>75.0</td>\n",
       "      <td>0</td>\n",
       "      <td>0</td>\n",
       "      <td>Check-Out</td>\n",
       "      <td>2015-07-02</td>\n",
       "      <td>1</td>\n",
       "      <td>7</td>\n",
       "      <td>2015-07-01</td>\n",
       "      <td>75.0</td>\n",
       "    </tr>\n",
       "    <tr>\n",
       "      <th>4</th>\n",
       "      <td>Resort Hotel</td>\n",
       "      <td>0</td>\n",
       "      <td>14</td>\n",
       "      <td>2015</td>\n",
       "      <td>July</td>\n",
       "      <td>27</td>\n",
       "      <td>1</td>\n",
       "      <td>0</td>\n",
       "      <td>2</td>\n",
       "      <td>2</td>\n",
       "      <td>...</td>\n",
       "      <td>Transient</td>\n",
       "      <td>98.0</td>\n",
       "      <td>0</td>\n",
       "      <td>1</td>\n",
       "      <td>Check-Out</td>\n",
       "      <td>2015-07-03</td>\n",
       "      <td>2</td>\n",
       "      <td>7</td>\n",
       "      <td>2015-07-01</td>\n",
       "      <td>196.0</td>\n",
       "    </tr>\n",
       "    <tr>\n",
       "      <th>6</th>\n",
       "      <td>Resort Hotel</td>\n",
       "      <td>0</td>\n",
       "      <td>0</td>\n",
       "      <td>2015</td>\n",
       "      <td>July</td>\n",
       "      <td>27</td>\n",
       "      <td>1</td>\n",
       "      <td>0</td>\n",
       "      <td>2</td>\n",
       "      <td>2</td>\n",
       "      <td>...</td>\n",
       "      <td>Transient</td>\n",
       "      <td>107.0</td>\n",
       "      <td>0</td>\n",
       "      <td>0</td>\n",
       "      <td>Check-Out</td>\n",
       "      <td>2015-07-03</td>\n",
       "      <td>2</td>\n",
       "      <td>7</td>\n",
       "      <td>2015-07-01</td>\n",
       "      <td>214.0</td>\n",
       "    </tr>\n",
       "    <tr>\n",
       "      <th>7</th>\n",
       "      <td>Resort Hotel</td>\n",
       "      <td>0</td>\n",
       "      <td>9</td>\n",
       "      <td>2015</td>\n",
       "      <td>July</td>\n",
       "      <td>27</td>\n",
       "      <td>1</td>\n",
       "      <td>0</td>\n",
       "      <td>2</td>\n",
       "      <td>2</td>\n",
       "      <td>...</td>\n",
       "      <td>Transient</td>\n",
       "      <td>103.0</td>\n",
       "      <td>0</td>\n",
       "      <td>1</td>\n",
       "      <td>Check-Out</td>\n",
       "      <td>2015-07-03</td>\n",
       "      <td>2</td>\n",
       "      <td>7</td>\n",
       "      <td>2015-07-01</td>\n",
       "      <td>206.0</td>\n",
       "    </tr>\n",
       "  </tbody>\n",
       "</table>\n",
       "<p>5 rows × 36 columns</p>\n",
       "</div>"
      ],
      "text/plain": [
       "          hotel  is_canceled  lead_time  arrival_date_year arrival_date_month  \\\n",
       "2  Resort Hotel            0          7               2015               July   \n",
       "3  Resort Hotel            0         13               2015               July   \n",
       "4  Resort Hotel            0         14               2015               July   \n",
       "6  Resort Hotel            0          0               2015               July   \n",
       "7  Resort Hotel            0          9               2015               July   \n",
       "\n",
       "   arrival_date_week_number  arrival_date_day_of_month  \\\n",
       "2                        27                          1   \n",
       "3                        27                          1   \n",
       "4                        27                          1   \n",
       "6                        27                          1   \n",
       "7                        27                          1   \n",
       "\n",
       "   stays_in_weekend_nights  stays_in_week_nights  adults  ...  customer_type  \\\n",
       "2                        0                     1       1  ...      Transient   \n",
       "3                        0                     1       1  ...      Transient   \n",
       "4                        0                     2       2  ...      Transient   \n",
       "6                        0                     2       2  ...      Transient   \n",
       "7                        0                     2       2  ...      Transient   \n",
       "\n",
       "     adr required_car_parking_spaces total_of_special_requests  \\\n",
       "2   75.0                           0                         0   \n",
       "3   75.0                           0                         0   \n",
       "4   98.0                           0                         1   \n",
       "6  107.0                           0                         0   \n",
       "7  103.0                           0                         1   \n",
       "\n",
       "  reservation_status reservation_status_date  total_nights  arrival_month_num  \\\n",
       "2          Check-Out              2015-07-02             1                  7   \n",
       "3          Check-Out              2015-07-02             1                  7   \n",
       "4          Check-Out              2015-07-03             2                  7   \n",
       "6          Check-Out              2015-07-03             2                  7   \n",
       "7          Check-Out              2015-07-03             2                  7   \n",
       "\n",
       "   arrival_date revenue  \n",
       "2    2015-07-01    75.0  \n",
       "3    2015-07-01    75.0  \n",
       "4    2015-07-01   196.0  \n",
       "6    2015-07-01   214.0  \n",
       "7    2015-07-01   206.0  \n",
       "\n",
       "[5 rows x 36 columns]"
      ]
     },
     "metadata": {},
     "output_type": "display_data"
    }
   ],
   "source": [
    "print(\"\\n--- Sample of Cleaned Dataset ---\")\n",
    "display(combined_df.head())"
   ]
  }
 ],
 "metadata": {
  "kernelspec": {
   "display_name": "venv",
   "language": "python",
   "name": "python3"
  },
  "language_info": {
   "codemirror_mode": {
    "name": "ipython",
    "version": 3
   },
   "file_extension": ".py",
   "mimetype": "text/x-python",
   "name": "python",
   "nbconvert_exporter": "python",
   "pygments_lexer": "ipython3",
   "version": "3.12.4"
  }
 },
 "nbformat": 4,
 "nbformat_minor": 5
}
